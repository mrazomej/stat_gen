{
 "cells": [
  {
   "cell_type": "markdown",
   "metadata": {},
   "source": [
    "(c) 2022 Manuel Razo. This work is licensed under a [Creative Commons\n",
    "Attribution License CC-BY 4.0](https://creativecommons.org/licenses/by/4.0/).\n",
    "All code contained herein is licensed under an [MIT\n",
    "license](https://opensource.org/licenses/MIT)."
   ]
  },
  {
   "cell_type": "code",
   "execution_count": 37,
   "metadata": {},
   "outputs": [
    {
     "data": {
      "text/plain": [
       "\"/Users/mrazo/git/stat_gen/book/figures/forces_evolution\""
      ]
     },
     "metadata": {},
     "output_type": "display_data"
    }
   ],
   "source": [
    "# Activate project\n",
    "@load_pkg jlStatGen\n",
    "\n",
    "# Import project package\n",
    "import jlStatGen\n",
    "\n",
    "# Import basic math\n",
    "import LinearAlgebra\n",
    "import Distributions\n",
    "\n",
    "# Load libraries for plotting\n",
    "using CairoMakie # for static plotting\n",
    "using WGLMakie # for interactive plotting\n",
    "import ColorSchemes\n",
    "# Activate backend\n",
    "CairoMakie.activate!()\n",
    "\n",
    "# Set PBoC Plotting style\n",
    "jlStatGen.viz.pboc_makie!()\n",
    "\n",
    "# Define output directory\n",
    "output_dir = \"$(git_root())/book/figures/forces_evolution\""
   ]
  },
  {
   "cell_type": "markdown",
   "metadata": {},
   "source": [
    "# Wright-Fisher model"
   ]
  },
  {
   "cell_type": "markdown",
   "metadata": {},
   "source": [
    "In this notebook, we will implement the Wright-Fisher model. As derived in the\n",
    "main text, the transition probability of this model is of the form\n",
    "$$\n",
    "P(X_t=j \\mid X_{t-1}=i) = \n",
    "\\overbrace{\\frac{2N!}{i! \\left(2N - i\\right)!}}\n",
    "^{\\text{order doesn't matter}}\n",
    "\\underbrace{\\left( \\frac{i}{2N}\\right)^j}_\n",
    "{\\text{draw $j$ copies of $A$}}\n",
    "\\overbrace{\\left( 1 - \\frac{i}{2N} \\right)^{2N - j}}^\n",
    "{\\text{draw $j - 2N$ copies of $a$}},\n",
    "\\tag{1}\n",
    "$$\n",
    "where $X_t$ is the allele $A$ count at generation $t$, and $N$ is the number of\n",
    "diploid organisms in the population.\n",
    "\n",
    "To simulate evolutionary dynamics governed by Eq. (1) such as the dynamics from\n",
    "the classic 1956 Buri experiment, let us define the vector\n",
    "$$\n",
    "\\underline{x}_t = (x_t^{(0)}, x_t^{(1)}, \\ldots, x_t^{(2N)})^T,\n",
    "\\tag{2}\n",
    "$$\n",
    "where each entry $x_t^{(i)}$ is the number of replicate populations with allele\n",
    "count $i$ at generation $t$. In other words, the vector $\\underline{x}_t$ is a\n",
    "record of the state of all populations at a single generation. Thus, this vector\n",
    "is of length $|\\underline{x}_t| = 2N + 1$, since zero must be counted as a\n",
    "possible allele copy number. To compute the vector $\\underline{x}_{t}$ knowing\n",
    "vector $\\underline{x}_{t-1}$, we define a a $(2N + 1) \\times (2N + 1)$\n",
    "transition matrix $\\underline{\\underline{P}}$ and compute\n",
    "$$\n",
    "\\underline{x}_{t} = \\underline{\\underline{P}}\\; \\underline{x}_{t-1}.\n",
    "\\tag{3}\n",
    "$$\n",
    "Matrix $\\underline{\\underline{P}}$ has entries\n",
    "$$\n",
    "P_{ji} = P(X_t=j \\mid X_{t-1}=i),\n",
    "\\tag{4}\n",
    "$$\n",
    "given by Eq. (1). Let us define a function that given a population size `N`\n",
    "returns this matrix."
   ]
  },
  {
   "cell_type": "code",
   "execution_count": 49,
   "metadata": {},
   "outputs": [
    {
     "data": {
      "text/plain": [
       "Pij"
      ]
     },
     "metadata": {},
     "output_type": "display_data"
    }
   ],
   "source": [
    "@doc raw\"\"\"\n",
    "    `Pij(N)`\n",
    "\n",
    "Function to build Wright-Fisher transition matrix.\n",
    "\n",
    "# Arguments\n",
    "- `N::Int`: Number of diploid  organisms in population.\n",
    "\n",
    "# Returns\n",
    "- `Pij::Matrix{Float64}`: Wright-Fisher transition matrix.\n",
    "\"\"\"\n",
    "function Pij(N::Int)\n",
    "    # Initialize empty matrix\n",
    "    P_mat = Matrix{Float64}(undef, 2N + 1, 2N + 1)\n",
    "\n",
    "    # Loop through rows\n",
    "    for j = 0:2N\n",
    "        # Loop through columns\n",
    "        for i = 0:2N\n",
    "            # Compute and store transition probability\n",
    "            P_mat[j+1, i+1] = binomial(2N, j) * \n",
    "                              (i / 2N)^j * (1 - (i / 2N))^(2N - j)\n",
    "        end # for cols\n",
    "    end # for rows\n",
    "\n",
    "    # Return matrix\n",
    "    return P_mat\n",
    "end # function"
   ]
  },
  {
   "cell_type": "markdown",
   "metadata": {},
   "source": [
    "With this function in hand, we are ready to simulate the Buri experiment. This\n",
    "experiment had 107 vials, each with 16 flies. Rather than working with the\n",
    "number of populations, we will work with the probability of any population\n",
    "having an allele count $x_t^{(i)}$. Another way to say this is that our vector\n",
    "$\\underline{x}_t$ will keep track of the probability distribution of allele\n",
    "counts for a population at generation $t$, therefore, $\\underline{x}_t$ must\n",
    "satisfy\n",
    "$$\n",
    "\\sum_{k=0}^{2N} x_t^{(k)} = 1,\n",
    "\\tag{5}\n",
    "$$\n",
    "i.e., it must be a normalized probability.\n",
    "\n",
    "We will define a matrix `X_mat` where each row will store the probability\n",
    "distribution of allele counts for each generation. The first row of this matrix\n",
    "will contain the initial condition for our experiment in which **all**\n",
    "populations have exactly 16 $A$ alleles."
   ]
  },
  {
   "cell_type": "code",
   "execution_count": 56,
   "metadata": {},
   "outputs": [
    {
     "name": "stdout",
     "output_type": "stream",
     "text": [
      "All generations add up to 1: true\n"
     ]
    }
   ],
   "source": [
    "# Define number of generations that the simulation will run\n",
    "n_gen = 19\n",
    "\n",
    "# Define the number of diploid organisms per population\n",
    "N = 16\n",
    "\n",
    "# Initialize array to save allele count probability distributions per generation\n",
    "X_mat = Matrix{Float64}(undef, n_gen + 1, 2N + 1)\n",
    "\n",
    "# Set initial condition where all entries except for count 16 are zero.\n",
    "X_mat[1, :] .= 0.0\n",
    "X_mat[1, 16+1] = 1.0\n",
    "\n",
    "# Generate transition matrix \n",
    "P_mat = Pij(N)\n",
    "\n",
    "# Loop through generations. Note: The loop starts at 2 and ends at n_gen+1 not\n",
    "# to modify the initial condition stored in the first row of the matrix\n",
    "for gen = 2:n_gen+1\n",
    "    X_mat[gen, :] = P_mat * X_mat[gen-1, :]\n",
    "end # for\n",
    "\n",
    "# Check that all generations add up to 1\n",
    "println(\"All generations add up to 1: $(all(sum(X_mat, dims=2) .≈ 1.))\")"
   ]
  },
  {
   "cell_type": "markdown",
   "metadata": {},
   "source": [
    "We can now plot the time evolution of the allele copy number as a heatmap."
   ]
  },
  {
   "cell_type": "code",
   "execution_count": 65,
   "metadata": {},
   "outputs": [
    {
     "data": {
      "image/png": "[encoded data removed]",
      "text/plain": [
       "Scene (350px, 350px):\n",
       "  0 Plots\n",
       "  1 Child Scene:\n",
       "    └ Scene (350px, 350px)"
      ]
     },
     "metadata": {},
     "output_type": "display_data"
    }
   ],
   "source": [
    "# Define figure resolution\n",
    "figres = 350\n",
    "\n",
    "# Inititalize figure\n",
    "fig = Figure(resolution=(figres, figres))\n",
    "\n",
    "# Initialize axis\n",
    "ax = Axis(\n",
    "    fig[1, 1],\n",
    "    xlabel = \"allele count\",\n",
    "    ylabel = \"generation\",\n",
    ")\n",
    "\n",
    "# Plot heatmap\n",
    "heatmap!(ax, X_mat[2:end, :]', colormap=:viridis)\n",
    "\n",
    "fig"
   ]
  },
  {
   "cell_type": "code",
   "execution_count": null,
   "metadata": {},
   "outputs": [],
   "source": []
  }
 ],
 "metadata": {
  "kernelspec": {
   "display_name": "Julia 1.8.1",
   "language": "julia",
   "name": "julia-1.8"
  },
  "language_info": {
   "file_extension": ".jl",
   "mimetype": "application/julia",
   "name": "julia",
   "version": "1.8.1"
  },
  "orig_nbformat": 4,
  "vscode": {
   "interpreter": {
    "hash": "b0fa6594d8f4cbf19f97940f81e996739fb7646882a419484c72d19e05852a7e"
   }
  }
 },
 "nbformat": 4,
 "nbformat_minor": 2
}
