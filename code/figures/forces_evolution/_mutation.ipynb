{
 "cells": [
  {
   "cell_type": "markdown",
   "metadata": {},
   "source": [
    "(c) 2022 Manuel Razo. This work is licensed under a [Creative Commons\n",
    "Attribution License CC-BY 4.0](https://creativecommons.org/licenses/by/4.0/).\n",
    "All code contained herein is licensed under an [MIT\n",
    "license](https://opensource.org/licenses/MIT)."
   ]
  },
  {
   "cell_type": "code",
   "execution_count": 1,
   "metadata": {},
   "outputs": [],
   "source": [
    "# Activate project\n",
    "@load_pkg jlStatGen\n",
    "\n",
    "# Import project package\n",
    "import jlStatGen\n",
    "\n",
    "# Import basic math\n",
    "import LinearAlgebra\n",
    "\n",
    "# Load libraries for plotting\n",
    "using CairoMakie # for static plotting\n",
    "using WGLMakie # for interactive plotting\n",
    "import ColorSchemes\n",
    "# Activate backend\n",
    "CairoMakie.activate!()\n",
    "\n",
    "# Set PBoC Plotting style\n",
    "jlStatGen.viz.pboc_makie!()\n",
    "\n",
    "# Define output directory\n",
    "output_dir = \"$(git_root())/book/figures/forces_evolution\";"
   ]
  },
  {
   "cell_type": "markdown",
   "metadata": {},
   "source": [
    "# The Forces of Evolution"
   ]
  },
  {
   "cell_type": "markdown",
   "metadata": {},
   "source": [
    "## Deterministic Forces"
   ]
  },
  {
   "cell_type": "markdown",
   "metadata": {},
   "source": [
    "### Mutation"
   ]
  },
  {
   "cell_type": "markdown",
   "metadata": {},
   "source": [
    "Plotting allele frequency $x(t)$ as a function of time $t$. The solution to the\n",
    "differential equation is of the form\n",
    "$$\n",
    "x(t) = \\frac{\\mu_{a\\rightarrow A}}\n",
    "{\\mu_{a\\rightarrow A} + \\mu_{A\\rightarrow a}} \n",
    "- \\frac{\\left[  \\mu_{a\\rightarrow A} - (\\mu_{a\\rightarrow A} + \n",
    "\\mu_{A\\rightarrow a}) x_o \\right] \n",
    "\\mathrm{e}^{- (\\mu_{a\\rightarrow A} + \\mu_{A\\rightarrow a}) t}}\n",
    "{\\mu_{a\\rightarrow A} + \\mu_{A\\rightarrow a}}.\n",
    "\\tag{1}\n",
    "$$"
   ]
  },
  {
   "cell_type": "code",
   "execution_count": 2,
   "metadata": {},
   "outputs": [
    {
     "data": {
      "image/png": "[encoded data removed]",
      "text/plain": [
       "Scene (550px, 350px):\n",
       "  0 Plots\n",
       "  2 Child Scenes:\n",
       "    ├ Scene (550px, 350px)\n",
       "    └ Scene (550px, 350px)"
      ]
     },
     "metadata": {},
     "output_type": "display_data"
    }
   ],
   "source": [
    "# Define ranges of mutations to chose\n",
    "μAa = 0.1\n",
    "μaA_array = [\n",
    "    µAa * 0.2 / (1 - 0.2), µAa * 0.5 / (1 - 0.5), µAa * 0.8 / (1 - 0.8)\n",
    "]\n",
    "\n",
    "# Define initial frequency\n",
    "xₒ  = 0.1\n",
    "\n",
    "# Define range of time to evaluate\n",
    "time = LinRange(0, 30, 200)\n",
    "\n",
    "# Set figure resolution\n",
    "figres = 350\n",
    "\n",
    "# Inititalize figure\n",
    "fig = Figure(resolution=(figres + 200, figres))\n",
    "\n",
    "# Add axis\n",
    "ax = Axis(\n",
    "    fig[1, 1],\n",
    "    xlabel=\"time\",\n",
    "    ylabel=\"allele frequency\",\n",
    ")\n",
    "\n",
    "# Define colors\n",
    "color = get(ColorSchemes.Blues_9, LinRange(0.5, 1, length(µaA_array)))\n",
    "\n",
    "# Loop through selection coefficients\n",
    "for (i, µaA) in enumerate(µaA_array)\n",
    "    # Evaluate allele frequency\n",
    "    x = @. µaA / (µaA + µAa) - \n",
    "    ((µaA - (µaA + µAa) * xₒ) * exp(-(µaA + µAa) * time)) / (µaA + µAa)\n",
    "    \n",
    "    # Plot expectd steady-state allele frequency\n",
    "    hlines!(\n",
    "        ax, µaA / (µaA + µAa), linestyle=:dash, color=(:gray, 0.5), linewidth=2\n",
    "    )\n",
    "\n",
    "    # Plot time vs allele frequency\n",
    "    lines!(\n",
    "        ax, \n",
    "        time, \n",
    "        x, \n",
    "        color=color[i], \n",
    "        linewidth=2.5, \n",
    "        label=\"$(round(µaA / (µaA + µAa), sigdigits=2))\"\n",
    "    )\n",
    "end # for\n",
    "\n",
    "Legend(\n",
    "    fig[1, 2], \n",
    "    ax, \n",
    "    L\"\\frac{\\mu_{a\\rightarrow A}}{\\mu_{a\\rightarrow A} + \\mu_{A\\rightarrow a}} \"\n",
    ")\n",
    "\n",
    "# Save figure as png\n",
    "save(\"$output_dir/_mutation_dynamics.png\", fig)\n",
    "# Define figure size in inches\n",
    "size_in_inches = 3\n",
    "# Define size for pdf\n",
    "size_pt = 72 * size_in_inches\n",
    "# Safe figure as pdf\n",
    "save(\n",
    "    \"$output_dir/_mutation_dynamics.pdf\",\n",
    "    fig,\n",
    "    pt_per_unit=size_pt / figres,\n",
    ")\n",
    "\n",
    "fig"
   ]
  },
  {
   "cell_type": "markdown",
   "metadata": {},
   "source": [
    "## Interactive plot"
   ]
  },
  {
   "cell_type": "markdown",
   "metadata": {},
   "source": [
    "Let us now generate an interactive plot where we can manipulate the mutation\n",
    "rate and see the plot change. For this, we will use the `WGLMakie` plotting end.\n",
    "\n",
    "The first thing we must do is activate this plotting end."
   ]
  },
  {
   "cell_type": "code",
   "execution_count": 3,
   "metadata": {},
   "outputs": [],
   "source": [
    "# Activate interactive plot backend\n",
    "WGLMakie.activate!()"
   ]
  },
  {
   "cell_type": "markdown",
   "metadata": {},
   "source": [
    "Next, we plot the allele frequency over time. We will define three sliders, one\n",
    "for $\\mu_{A\\rightarrow a}$, one for $\\mu_{a\\rightarrow A}$, and one for $x_o$."
   ]
  },
  {
   "cell_type": "code",
   "execution_count": 4,
   "metadata": {},
   "outputs": [
    {
     "data": {
      "text/html": [
       "<div data-jscall-id=\"2\"><script data-jscall-id=\"3\" type=\"text/javascript\">\n",
       "    function register_resize_handler(remote_origin) {\n",
       "        function resize_callback(event) {\n",
       "            if (event.origin !== remote_origin) {\n",
       "                return;\n",
       "            }\n",
       "            const uuid = event.data[0];\n",
       "            const width = event.data[1];\n",
       "            const height = event.data[2];\n",
       "            const iframe = document.getElementById('672d1ceb-c6fb-484e-9e97-540bce80d92f');\n",
       "            if (iframe) {\n",
       "                iframe.style.width = width + \"px\";\n",
       "                iframe.style.height = height + \"px\";\n",
       "            }\n",
       "        }\n",
       "        if (window.addEventListener) {\n",
       "            window.addEventListener(\"message\", resize_callback, false);\n",
       "        } else if (window.attachEvent) {\n",
       "            window.attachEvent(\"onmessage\", resize_callback);\n",
       "        }\n",
       "    }\n",
       "    register_resize_handler('http://127.0.0.1:9284')\n",
       "\n",
       "</script><iframe scrolling=\"no\" id=\"672d1ceb-c6fb-484e-9e97-540bce80d92f\" data-jscall-id=\"1\" src=\"http://127.0.0.1:9284/672d1ceb-c6fb-484e-9e97-540bce80d92f\" style=\"position: relative; display: block; width: 100%; height: 100%; padding: 0; overflow: hidden; border: none\"></iframe></div>\n"
      ]
     },
     "metadata": {},
     "output_type": "display_data"
    }
   ],
   "source": [
    "# Inititalize figure\n",
    "fig = Figure(resolution=(500, 600))\n",
    "\n",
    "# Define interactive sliders for µaA, µAa, and xₒ\n",
    "mut_sliders = SliderGrid(\n",
    "    fig[2, 1], \n",
    "    (range = 0.01:0.01:1, startvalue=0.1, horizontal=true, label=\"µaA\"),\n",
    "    (range = 0.01:0.01:1, startvalue=0.01, horizontal=true, label=\"µAa\"),\n",
    "    (range = 0.0:0.01:1, startvalue=0.1, horizontal=true, label=\"xₒ\")\n",
    ")\n",
    "\n",
    "# Define range of time to evaluate\n",
    "time = LinRange(0, 30, 200)\n",
    "\n",
    "# Generate an observable that uses the slider values to compute the allele\n",
    "# frequency\n",
    "x = lift(\n",
    "    mut_sliders.sliders[1].value,\n",
    "    mut_sliders.sliders[2].value, \n",
    "    mut_sliders.sliders[3].value,\n",
    "    ) do µaA, µAa, xₒ\n",
    "    # Compute allele frequency\n",
    "    @. µaA / (µaA + µAa) - \n",
    "    ((µaA - (µaA + µAa) * xₒ) * exp(-(µaA + µAa) * time)) / (µaA + µAa)\n",
    "end # do\n",
    "\n",
    "# Add axis\n",
    "ax = Axis(\n",
    "    fig[1, 1],\n",
    "    xlabel=\"time\",\n",
    "    ylabel=\"allele frequency\",\n",
    ")\n",
    "\n",
    "# Plot time vs allele frequency\n",
    "lines!(ax, time, x, linewidth=2.5)\n",
    "\n",
    "ylims!(ax, 0, 1)\n",
    "\n",
    "fig"
   ]
  }
 ],
 "metadata": {
  "kernelspec": {
   "display_name": "Julia 1.8.1",
   "language": "julia",
   "name": "julia-1.8"
  },
  "language_info": {
   "file_extension": ".jl",
   "mimetype": "application/julia",
   "name": "julia",
   "version": "1.8.1"
  },
  "orig_nbformat": 4
 },
 "nbformat": 4,
 "nbformat_minor": 2
}
