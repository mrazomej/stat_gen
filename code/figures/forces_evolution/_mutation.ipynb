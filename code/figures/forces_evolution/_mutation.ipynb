{
 "cells": [
  {
   "cell_type": "markdown",
   "metadata": {},
   "source": [
    "(c) 2022 Manuel Razo. This work is licensed under a [Creative Commons\n",
    "Attribution License CC-BY 4.0](https://creativecommons.org/licenses/by/4.0/).\n",
    "All code contained herein is licensed under an [MIT\n",
    "license](https://opensource.org/licenses/MIT)."
   ]
  },
  {
   "cell_type": "code",
   "execution_count": 1,
   "metadata": {},
   "outputs": [
    {
     "name": "stderr",
     "output_type": "stream",
     "text": [
      "┌ Warning: The Pkg REPL mode is intended for interactive use only, and should not be used from scripts. It is recommended to use the functional API instead.\n",
      "└ @ Pkg.REPLMode /Users/julia/buildbot/worker/package_macos64/build/usr/share/julia/stdlib/v1.7/Pkg/src/REPLMode/REPLMode.jl:377\n",
      "\u001b[32m\u001b[1m  Activating\u001b[22m\u001b[39m"
     ]
    },
    {
     "name": "stderr",
     "output_type": "stream",
     "text": [
      " project at `~/git/stat_gen/jlStatGen`\n"
     ]
    }
   ],
   "source": [
    "# Finding project home directory directory\n",
    "\n",
    "# Save current directory\n",
    "dir = read(`pwd`, String)\n",
    "dir = dir[1:end-1]\n",
    "\n",
    "# Load package for project by locating git home folder\n",
    "home_dir = read(`git rev-parse --show-toplevel`, String)\n",
    "home_dir = home_dir[1:end-1]\n",
    "\n",
    "# Change directories\n",
    "cd(home_dir * \"/jlStatGen\")\n",
    "# Activate environment\n",
    "using Pkg\n",
    "Pkg.pkg\"activate .\"\n",
    "\n",
    "# Return to original directory\n",
    "cd(dir)"
   ]
  },
  {
   "cell_type": "code",
   "execution_count": 2,
   "metadata": {},
   "outputs": [],
   "source": [
    "# Import project package\n",
    "import jlStatGen\n",
    "\n",
    "# Import basic math\n",
    "import LinearAlgebra\n",
    "\n",
    "# Load CairoMakie for plotting\n",
    "using CairoMakie\n",
    "import ColorSchemes\n",
    "# Activate backend\n",
    "CairoMakie.activate!()\n",
    "\n",
    "# Set PBoC Plotting style\n",
    "jlStatGen.viz.pboc_makie!()\n",
    "\n",
    "# Define output directory\n",
    "output_dir = \"$home_dir/book/figures/forces_evolution\";"
   ]
  },
  {
   "cell_type": "markdown",
   "metadata": {},
   "source": [
    "# The Forces of Evolution"
   ]
  },
  {
   "cell_type": "markdown",
   "metadata": {},
   "source": [
    "## Deterministic Forces"
   ]
  },
  {
   "cell_type": "markdown",
   "metadata": {},
   "source": [
    "### Mutation"
   ]
  },
  {
   "cell_type": "markdown",
   "metadata": {},
   "source": [
    "Plotting allele frequency $x(t)$ as a function of time $t$. The solution to the\n",
    "differential equation is of the form\n",
    "$$\n",
    "x(t) = \\frac{\\mu_{a\\rightarrow A}}\n",
    "{\\mu_{a\\rightarrow A} + \\mu_{A\\rightarrow a}} \n",
    "- \\frac{\\left[  \\mu_{a\\rightarrow A} - (\\mu_{a\\rightarrow A} + \n",
    "\\mu_{A\\rightarrow a}) x_o \\right] \n",
    "\\mathrm{e}^{- (\\mu_{a\\rightarrow A} + \\mu_{A\\rightarrow a}) t}}\n",
    "{\\mu_{a\\rightarrow A} + \\mu_{A\\rightarrow a}}.\n",
    "$$"
   ]
  },
  {
   "cell_type": "code",
   "execution_count": 21,
   "metadata": {},
   "outputs": [
    {
     "data": {
      "image/png": "[encoded data removed]",
      "text/plain": [
       "Scene (550px, 350px):\n",
       "  0 Plots\n",
       "  2 Child Scenes:\n",
       "    ├ Scene (550px, 350px)\n",
       "    └ Scene (550px, 350px)"
      ]
     },
     "metadata": {},
     "output_type": "display_data"
    }
   ],
   "source": [
    "# Define ranges of mutations to chose\n",
    "μAa = 0.1\n",
    "μaA_array = [\n",
    "    µAa * 0.2 / (1 - 0.2), µAa * 0.5 / (1 - 0.5), µAa * 0.8 / (1 - 0.8)\n",
    "]\n",
    "# μaA_array = [µAa * 0.2, µAa * 0.01, µAa * 0.8]\n",
    "\n",
    "# Define initial frequency\n",
    "xₒ  = 0.1\n",
    "\n",
    "# Define range of time to evaluate\n",
    "time = LinRange(0, 30, 200)\n",
    "\n",
    "# Set figure resolution\n",
    "figres = 350\n",
    "\n",
    "# Inititalize figure\n",
    "fig = Figure(resolution=(figres + 200, figres))\n",
    "\n",
    "# Add axis\n",
    "ax = Axis(\n",
    "    fig[1, 1],\n",
    "    xlabel=\"time\",\n",
    "    ylabel=\"allele frequency\",\n",
    ")\n",
    "\n",
    "# Define colors\n",
    "color = get(ColorSchemes.Blues_9, LinRange(0.5, 1, length(µaA_array)))\n",
    "\n",
    "# Loop through selection coefficients\n",
    "for (i, µaA) in enumerate(µaA_array)\n",
    "    # Evaluate allele frequency\n",
    "    x = @. µaA / (µaA + µAa) - \n",
    "    ((µaA - (µaA + µAa) * xₒ) * exp(-(µaA + µAa) * time)) / (µaA + µAa)\n",
    "    \n",
    "    # Plot time vs allele frequency\n",
    "    lines!(\n",
    "        ax, \n",
    "        time, \n",
    "        x, \n",
    "        color=color[i], \n",
    "        linewidth=2.5, \n",
    "        label=\"$(round(µaA / (µaA + µAa), sigdigits=2))\"\n",
    "    )\n",
    "end # for\n",
    "\n",
    "Legend(\n",
    "    fig[1, 2], \n",
    "    ax, \n",
    "    L\"\\frac{\\mu_{a\\rightarrow A}}{\\mu_{a\\rightarrow A} + \\mu_{A\\rightarrow a}} \"\n",
    ")\n",
    "\n",
    "# Save figure as png\n",
    "save(\"$output_dir/_mutation_dynamics.png\", fig)\n",
    "# Define figure size in inches\n",
    "size_in_inches = 3\n",
    "# Define size for pdf\n",
    "size_pt = 72 * size_in_inches\n",
    "# Safe figure as pdf\n",
    "save(\n",
    "    \"$output_dir/_mutation_dynamics.pdf\",\n",
    "    fig,\n",
    "    pt_per_unit=size_pt / figres,\n",
    ")\n",
    "\n",
    "fig"
   ]
  }
 ],
 "metadata": {
  "kernelspec": {
   "display_name": "Julia 1.7.3",
   "language": "julia",
   "name": "julia-1.7"
  },
  "language_info": {
   "file_extension": ".jl",
   "mimetype": "application/julia",
   "name": "julia",
   "version": "1.7.3"
  },
  "orig_nbformat": 4
 },
 "nbformat": 4,
 "nbformat_minor": 2
}
